{
 "cells": [
  {
   "cell_type": "code",
   "execution_count": 1,
   "metadata": {},
   "outputs": [],
   "source": [
    "import sqlite3\n",
    "\n",
    "conn = sqlite3.connect('ex1.db')\n",
    "c = conn.cursor()\n",
    "\n",
    "c.execute('''\n",
    "        CREATE TABLE books (id integer, title text, price integer)\n",
    "''')\n",
    "\n",
    "c. execute('''\n",
    "        INSERT INTO books VALUES (1, 'python 가이드', 5000)\n",
    "''')\n",
    "c. execute('''\n",
    "        INSERT INTO books VALUES (2, 'js 가이드', 5000)\n",
    "''')\n",
    "\n",
    "conn.commit()\n",
    "conn.close()"
   ]
  },
  {
   "cell_type": "code",
   "execution_count": 2,
   "metadata": {},
   "outputs": [
    {
     "name": "stdout",
     "output_type": "stream",
     "text": [
      "(1, 'python 가이드', 5000)\n",
      "(2, 'js 가이드', 5000)\n"
     ]
    }
   ],
   "source": [
    "conn = sqlite3.connect('ex1.db')\n",
    "c = conn.cursor()\n",
    "\n",
    "# 데이터 조회\n",
    "for row in c.execute('SELECT * FROM books ORDER BY id'):\n",
    "    print(row)\n",
    "\n",
    "# 연결 종료\n",
    "conn.close()"
   ]
  },
  {
   "cell_type": "code",
   "execution_count": 3,
   "metadata": {},
   "outputs": [
    {
     "name": "stdout",
     "output_type": "stream",
     "text": [
      "(1, 'python 가이드', 5000)\n",
      "(2, 'js 가이드', 5000)\n"
     ]
    }
   ],
   "source": [
    "conn = sqlite3.connect('ex1.db')\n",
    "c = conn.cursor()\n",
    "\n",
    "# 데이터 조회\n",
    "for row in c.execute('SELECT * FROM books ORDER BY id'):\n",
    "    print(row)\n",
    "\n",
    "# 연결 종료\n",
    "conn.close()"
   ]
  },
  {
   "cell_type": "code",
   "execution_count": 4,
   "metadata": {},
   "outputs": [],
   "source": [
    "## 실습 2\n",
    "import sqlite3\n",
    "\n",
    "conn = sqlite3.connect('ex2.db')\n",
    "c = conn.cursor()\n",
    "\n",
    "c.execute('''\n",
    "    CREATE TABLE books (id integer, title text, price integer)\n",
    "''')\n",
    "\n",
    "for i in range(10):\n",
    "    c.execute(f\"INSERT INTO books VALUES ({i}, 'python 가이드', {i*1000})\")\n",
    "\n",
    "conn.commit()\n",
    "conn.close()"
   ]
  },
  {
   "cell_type": "code",
   "execution_count": 5,
   "metadata": {},
   "outputs": [
    {
     "name": "stdout",
     "output_type": "stream",
     "text": [
      "(0, 'python 가이드', 0)\n",
      "(1, 'python 가이드', 1000)\n",
      "(2, 'python 가이드', 2000)\n",
      "(3, 'python 가이드', 3000)\n",
      "(4, 'python 가이드', 4000)\n",
      "(5, 'python 가이드', 5000)\n",
      "(6, 'python 가이드', 6000)\n",
      "(7, 'python 가이드', 7000)\n",
      "(8, 'python 가이드', 8000)\n",
      "(9, 'python 가이드', 9000)\n"
     ]
    }
   ],
   "source": [
    "conn = sqlite3.connect('ex2.db')\n",
    "c = conn.cursor()\n",
    "\n",
    "# 데이터 조회\n",
    "for row in c.execute('SELECT * FROM books ORDER BY id'):\n",
    "    print(row)\n",
    "\n",
    "# 연결 종료\n",
    "conn.close()"
   ]
  },
  {
   "cell_type": "code",
   "execution_count": 6,
   "metadata": {},
   "outputs": [],
   "source": [
    "## 실습 3\n",
    "import sqlite3\n",
    "\n",
    "data = {\n",
    "    'id': [1, 2, 3],\n",
    "    'title': ['1', '2', '3'],\n",
    "    'content': ['11', '22', '33', '44', '55']\n",
    "}\n",
    "\n",
    "# 데이터베이스에 연결\n",
    "conn = sqlite3.connect('ex3.db')\n",
    "\n",
    "# 커서 생성\n",
    "cursor = conn.cursor()\n",
    "\n",
    "# post 테이블 생성\n",
    "cursor.execute('CREATE TABLE post (id INTEGER, title TEXT, content TEXT)')\n",
    "\n",
    "# 데이터 삽입\n",
    "for i in range(len(data['id'])):\n",
    "    cursor.execute('INSERT INTO post VALUES (?, ?, ?)', (data['id'][i], data['title'][i], data['content'][i]))\n",
    "\n",
    "# 커밋(변경 사항 저장)\n",
    "conn.commit()\n",
    "\n",
    "# 연결 닫기\n",
    "conn.close()"
   ]
  },
  {
   "cell_type": "code",
   "execution_count": 7,
   "metadata": {},
   "outputs": [
    {
     "name": "stdout",
     "output_type": "stream",
     "text": [
      "(1, '1', '11')\n",
      "(2, '2', '22')\n",
      "(3, '3', '33')\n"
     ]
    }
   ],
   "source": [
    "conn = sqlite3.connect('ex3.db')\n",
    "c = conn.cursor()\n",
    "\n",
    "# 데이터 조회\n",
    "for row in c.execute('SELECT * FROM post'):\n",
    "    print(row)\n",
    "\n",
    "# 연결 종료\n",
    "conn.close()"
   ]
  },
  {
   "cell_type": "code",
   "execution_count": null,
   "metadata": {},
   "outputs": [],
   "source": [
    "- 오르미를 위한 특별 과제입니다. 코드를 한 블록으로 만들어서 스터디 방에 업로드 해주세요.\n",
    "    - book 크롤링한 데이터를 데이터베이스에 담아야 합니다.\n",
    "        - 데이터베이스를 생성\n",
    "        - 크롤링\n",
    "        - id, title, price, author\n",
    "    - 데이터베이스를 읽습니다.\n",
    "    - 데이터베이스를 JSON 형태로 출력해야 합니다. 출력 이름은 output.json"
   ]
  }
 ],
 "metadata": {
  "kernelspec": {
   "display_name": "Python 3",
   "language": "python",
   "name": "python3"
  },
  "language_info": {
   "codemirror_mode": {
    "name": "ipython",
    "version": 3
   },
   "file_extension": ".py",
   "mimetype": "text/x-python",
   "name": "python",
   "nbconvert_exporter": "python",
   "pygments_lexer": "ipython3",
   "version": "3.12.0"
  }
 },
 "nbformat": 4,
 "nbformat_minor": 2
}
