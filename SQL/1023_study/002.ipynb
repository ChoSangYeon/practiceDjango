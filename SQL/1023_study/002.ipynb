{
 "cells": [
  {
   "cell_type": "code",
   "execution_count": 1,
   "metadata": {},
   "outputs": [
    {
     "name": "stdout",
     "output_type": "stream",
     "text": [
      "\n",
      "메모혁신 Notion(노션) 활용 가이드\n",
      "가격: 7,000원\n",
      "저자: 이호준, 이준호, 김혜원, 김유진, 차경림, 김진, 현지연, 정승한\n",
      "Notion의 기본 사용 방법부터 Notion을 활용한 홈페이지 제작 방법까지 다양하게 다루고 있으며 특히 개발자가 원하는 Notion의 활용 방법을 다루고 있습니다.\n",
      "\n",
      "\n",
      "이력서 작성 가이드\n",
      "가격: 10,000원\n",
      "저자: 강혜진, 김유진, 김혜원, 김진, 이범재, 이호준, 원유선, 박누리, 차경림, 최원범, 한재현\n",
      "개발자 역량을 갖추는 것뿐만 아니라 회사에 뽑힐 확률을 높이는 전략과 방법도 필요합니다. 개발자 이력서는 그 첫걸음입니다.\n",
      "\n",
      "\n",
      "제주코딩베이스캠프 Code Festival: Python 100제 1부\n",
      "가격: 무료\n",
      "저자: 이호준, 강민정, 김유진, 정윤하, 최원범\n",
      "파이썬으로 풀 수 있는 100문제를 만들었습니다. 50문제씩 1부(초급, 중급)와 2부(중급, 고급)로 나누어져있습니다.\n",
      "\n",
      "\n",
      "튜토리얼로 배우는 HTML&CSS\n",
      "가격: 4,900원\n",
      "저자: 이호준, 박민균, 양지혜, 정민준, 박소영, 전유빈\n",
      "튜토리얼을 통해 일단 만들어 봅시다! 무엇이든 일단 만들어 보면 길이 보이기 시작합니다. 그 다음 웹 동작방법, 태그의 동작 방식, 브라우저 렌더링 엔진 등에 대하여 부담이 되지 않을 만큼씩 배워가세요.\n",
      "\n",
      "\n",
      "코딩도장 튜토리얼로 배우는 Python 1편 object\n",
      "가격: 3,000원\n",
      "저자: 이호준, 정민준, 배희성, 김덕주, 한승협\n",
      "파이썬은 이해하기 쉽고 간결한 문법으로 생산성이 높아 교육을 포함한 다양한 분야 에서 활용되고 있는 언어입니다. 빅데이터 분석, 머신러닝, 웹 개발 등 다양하게 쓰이는 Python을 예제를 통해 배워보세요. 이 책은 여러 미션을 스토리텔링 형식으로 제공하며 튜토리얼 별로 코드를 제공하여 쉽고 재미있게 코딩 개념을 익힐 수 있도록 도와줄 것입니다.\n",
      "                    \n",
      "\n",
      "\n",
      "코딩도장 튜토리얼로 배우는 python 2편 제어문\n",
      "가격: 4,900원\n",
      "저자: 이호준, 우지훈, 박소영, 허재영\n",
      "파이썬 튜토리얼 시리즈는 1편 Object 2편 제어문 3편 문제풀이로 구성되어 있습니다.\n",
      "\n",
      "\n",
      "코딩도장 튜토리얼로 배우는 Python 문제풀이\n",
      "가격: 무료\n",
      "저자: 이호준, 전유빈, 김태범, 한승협, 김혜원, 강민정\n",
      "\n",
      "                          이 책은 Python 문법을 이제 막 끝낸 분에게 추천해 드립니다. \n",
      "                          코딩도장 사이트에 문제를 풀어보며 Python에 보다 깊게 다가가 보세요.\n",
      "                          다양한 문제들이 여러분의 실력을 향상시켜 줄 것입니다.\n",
      "\n",
      "\n",
      "타노스의 건틀릿 알고리즘 With Python\n",
      "가격: 무료\n",
      "저자: 이호준, 한승협, 강민정, 신민욱\n",
      "이 책은 Python 문법을 이제 막 끝낸 분에게 추천해 드립니다. \n",
      "                          타노스의 핑거스냅 문제를 다양한 시각으로 풀어보며 Python에 보다 깊게 다가가 보세요. \n",
      "                          다양한 시각이 여러분의 실력을 향상시켜줄 것입니다.\n",
      "\n",
      "\n",
      "xlsxwriter 튜토리얼로 배우는 Python 엑셀 프로그래밍\n",
      "가격: 무료\n",
      "저자: 이호준, 강상권, 오재원, 전진환, 문형철, 이현창\n",
      "이 책은 빅데이터를 가공하여 엑셀로 가시화 시키기 원하는 업무 담당자와 단순 업무를 Python을 이용하여 자동화 시키려 하는 업무 담당자에게 추천해드립니다. \n",
      "                          또한 부서의 업무 고도화, 효율화를 위해 적절한 자동화 프로그램을 찾지 못한 기업과 학문적 호기심을 가진 개인에게도 추천해 드립니다. \n",
      "                          세계에서 유행중인 Python은 타 언어에 비해 다루기 쉬우며 풍성한 라이브러리로 원하는 프로그램을 직접 만들기에 적합합니다.\n",
      "\n",
      "\n",
      "러플 튜토리얼로 배우는 Python\n",
      "가격: 4,900\n",
      "저자: 이호준, 배희성, 양지혜, 박소영, 김수연, 정민준\n",
      "이 책은 소프트웨어 교육을 처음 접했거나 스크래치, \n",
      "                              엔트리 등 블록기반 교육용 소프트웨어 다음으로 무엇을 배워야 할 지 모르는 초등학교 학생,\n",
      "                              중학교 학생과 소프트웨어 교육을 담당하는 선생님께 권해드립니다.\n",
      "                               파이썬 코드로 로봇을 제어하면서 코딩을 쉽게 배울 수 있는 러플은 고급 프로그래밍 언어를 처음 접하는\n",
      "                                학생들이 쉽게 언어기반 프로그래밍을 이해할 수 있도록 도와줍니다.\n",
      "\n",
      "\n",
      "인공지능을 활용한 업무자동화 With Google Developers Group JEJU\n",
      "가격: 무료\n",
      "저자: 이호준, 이준호, 현암, 윤현담, 김루비, 이동민, 유승엽, 박서윤, 김채린, 한승협, 안상우, 장성원, 전진환, 강민성, 조민구, 전창삼\n",
      "이 책은 반복적이고 지루한 단순 업무를 Python을 이용하여 \n",
      "                          자동화 시키려 하는 업무 담당자와 데이터를 가공하여 가시화 시키기 원하는 업무 담당자에게 추천해드립니다.\n",
      "                           또한 부서의 업무 고도화, 효율화를 위해 적절한 자동화 프로그램을 찾지 못한 기업과 학문적 호기심을 가진 개인에게도 추천해 드립니다. \n",
      "                          세계에서 유행중인 Python은 타 언어에 비해 다루기 쉬우며 풍성한 라이브러리로 원하는 프로그램을 직접 만들기에 적합합니다.\n",
      "\n"
     ]
    }
   ],
   "source": [
    "import requests\n",
    "from bs4 import BeautifulSoup\n",
    "\n",
    "url = 'https://paullab.co.kr/bookservice/'\n",
    "response = requests.get(url)\n",
    "html = response.text\n",
    "\n",
    "soup = BeautifulSoup(html, 'html.parser')\n",
    "data = soup.select('.book_detail')\n",
    "\n",
    "for i in data:\n",
    "    print(i.text)"
   ]
  },
  {
   "cell_type": "code",
   "execution_count": 29,
   "metadata": {},
   "outputs": [
    {
     "name": "stdout",
     "output_type": "stream",
     "text": [
      "[[10, '메모혁신 Notion(노션) 활용 가이드', '가격: 7,000원', '저자: 이호준, 이준호, 김혜원, 김유진, 차경림, 김진, 현지연, 정승한'], [10, '이력서 작성 가이드', '가격: 10,000원', '저자: 강혜진, 김유진, 김혜원, 김진, 이범재, 이호준, 원유선, 박누리, 차경림, 최원범, 한재현'], [10, '제주코딩베이스캠프 Code Festival: Python 100제 1부', '가격: 무료', '저자: 이호준, 강민정, 김유진, 정윤하, 최원범'], [10, '튜토리얼로 배우는 HTML&CSS', '가격: 4,900원', '저자: 이호준, 박민균, 양지혜, 정민준, 박소영, 전유빈'], [10, '코딩도장 튜토리얼로 배우는 Python 1편 object', '가격: 3,000원', '저자: 이호준, 정민준, 배희성, 김덕주, 한승협'], [10, '코딩도장 튜토리얼로 배우는 python 2편 제어문', '가격: 4,900원', '저자: 이호준, 우지훈, 박소영, 허재영'], [10, '코딩도장 튜토리얼로 배우는 Python 문제풀이', '가격: 무료', '저자: 이호준, 전유빈, 김태범, 한승협, 김혜원, 강민정'], [10, '타노스의 건틀릿 알고리즘 With Python', '가격: 무료', '저자: 이호준, 한승협, 강민정, 신민욱'], [10, 'xlsxwriter 튜토리얼로 배우는 Python 엑셀 프로그래밍', '가격: 무료', '저자: 이호준, 강상권, 오재원, 전진환, 문형철, 이현창'], [10, '러플 튜토리얼로 배우는 Python', '가격: 4,900', '저자: 이호준, 배희성, 양지혜, 박소영, 김수연, 정민준'], [10, '인공지능을 활용한 업무자동화 With Google Developers Group JEJU', '가격: 무료', '저자: 이호준, 이준호, 현암, 윤현담, 김루비, 이동민, 유승엽, 박서윤, 김채린, 한승협, 안상우, 장성원, 전진환, 강민성, 조민구, 전창삼']]\n"
     ]
    }
   ],
   "source": [
    "import requests\n",
    "from bs4 import BeautifulSoup\n",
    "\n",
    "url = 'https://paullab.co.kr/bookservice/'\n",
    "response = requests.get(url)\n",
    "html = response.text\n",
    "\n",
    "soup = BeautifulSoup(html, 'html.parser')\n",
    "data = soup.select('.book_detail')\n",
    "\n",
    "lst = []\n",
    "for i in data:\n",
    "    title = i.select('.book_name')[0].text\n",
    "    price = i.select('.book_info')[0].text\n",
    "    author = i.select('.book_info')[1].text\n",
    "    for j in range(1, len(data)):\n",
    "        id = j\n",
    "        data_list = [id, title, price, author]\n",
    "    lst.append(data_list)\n",
    "\n",
    "print(lst)"
   ]
  },
  {
   "cell_type": "code",
   "execution_count": 27,
   "metadata": {},
   "outputs": [
    {
     "name": "stdout",
     "output_type": "stream",
     "text": [
      "[{'id': 1, 'title': '메모혁신 Notion(노션) 활용 가이드', 'price': '가격: 7,000원', 'author': '저자: 이호준, 이준호, 김혜원, 김유진, 차경림, 김진, 현지연, 정승한'}, {'id': 2, 'title': '메모혁신 Notion(노션) 활용 가이드', 'price': '가격: 7,000원', 'author': '저자: 이호준, 이준호, 김혜원, 김유진, 차경림, 김진, 현지연, 정승한'}, {'id': 3, 'title': '메모혁신 Notion(노션) 활용 가이드', 'price': '가격: 7,000원', 'author': '저자: 이호준, 이준호, 김혜원, 김유진, 차경림, 김진, 현지연, 정승한'}, {'id': 4, 'title': '메모혁신 Notion(노션) 활용 가이드', 'price': '가격: 7,000원', 'author': '저자: 이호준, 이준호, 김혜원, 김유진, 차경림, 김진, 현지연, 정승한'}, {'id': 5, 'title': '메모혁신 Notion(노션) 활용 가이드', 'price': '가격: 7,000원', 'author': '저자: 이호준, 이준호, 김혜원, 김유진, 차경림, 김진, 현지연, 정승한'}, {'id': 6, 'title': '메모혁신 Notion(노션) 활용 가이드', 'price': '가격: 7,000원', 'author': '저자: 이호준, 이준호, 김혜원, 김유진, 차경림, 김진, 현지연, 정승한'}, {'id': 7, 'title': '메모혁신 Notion(노션) 활용 가이드', 'price': '가격: 7,000원', 'author': '저자: 이호준, 이준호, 김혜원, 김유진, 차경림, 김진, 현지연, 정승한'}, {'id': 8, 'title': '메모혁신 Notion(노션) 활용 가이드', 'price': '가격: 7,000원', 'author': '저자: 이호준, 이준호, 김혜원, 김유진, 차경림, 김진, 현지연, 정승한'}, {'id': 9, 'title': '메모혁신 Notion(노션) 활용 가이드', 'price': '가격: 7,000원', 'author': '저자: 이호준, 이준호, 김혜원, 김유진, 차경림, 김진, 현지연, 정승한'}, {'id': 10, 'title': '메모혁신 Notion(노션) 활용 가이드', 'price': '가격: 7,000원', 'author': '저자: 이호준, 이준호, 김혜원, 김유진, 차경림, 김진, 현지연, 정승한'}, {'id': 1, 'title': '이력서 작성 가이드', 'price': '가격: 10,000원', 'author': '저자: 강혜진, 김유진, 김혜원, 김진, 이범재, 이호준, 원유선, 박누리, 차경림, 최원범, 한재현'}, {'id': 2, 'title': '이력서 작성 가이드', 'price': '가격: 10,000원', 'author': '저자: 강혜진, 김유진, 김혜원, 김진, 이범재, 이호준, 원유선, 박누리, 차경림, 최원범, 한재현'}, {'id': 3, 'title': '이력서 작성 가이드', 'price': '가격: 10,000원', 'author': '저자: 강혜진, 김유진, 김혜원, 김진, 이범재, 이호준, 원유선, 박누리, 차경림, 최원범, 한재현'}, {'id': 4, 'title': '이력서 작성 가이드', 'price': '가격: 10,000원', 'author': '저자: 강혜진, 김유진, 김혜원, 김진, 이범재, 이호준, 원유선, 박누리, 차경림, 최원범, 한재현'}, {'id': 5, 'title': '이력서 작성 가이드', 'price': '가격: 10,000원', 'author': '저자: 강혜진, 김유진, 김혜원, 김진, 이범재, 이호준, 원유선, 박누리, 차경림, 최원범, 한재현'}, {'id': 6, 'title': '이력서 작성 가이드', 'price': '가격: 10,000원', 'author': '저자: 강혜진, 김유진, 김혜원, 김진, 이범재, 이호준, 원유선, 박누리, 차경림, 최원범, 한재현'}, {'id': 7, 'title': '이력서 작성 가이드', 'price': '가격: 10,000원', 'author': '저자: 강혜진, 김유진, 김혜원, 김진, 이범재, 이호준, 원유선, 박누리, 차경림, 최원범, 한재현'}, {'id': 8, 'title': '이력서 작성 가이드', 'price': '가격: 10,000원', 'author': '저자: 강혜진, 김유진, 김혜원, 김진, 이범재, 이호준, 원유선, 박누리, 차경림, 최원범, 한재현'}, {'id': 9, 'title': '이력서 작성 가이드', 'price': '가격: 10,000원', 'author': '저자: 강혜진, 김유진, 김혜원, 김진, 이범재, 이호준, 원유선, 박누리, 차경림, 최원범, 한재현'}, {'id': 10, 'title': '이력서 작성 가이드', 'price': '가격: 10,000원', 'author': '저자: 강혜진, 김유진, 김혜원, 김진, 이범재, 이호준, 원유선, 박누리, 차경림, 최원범, 한재현'}, {'id': 1, 'title': '제주코딩베이스캠프 Code Festival: Python 100제 1부', 'price': '가격: 무료', 'author': '저자: 이호준, 강민정, 김유진, 정윤하, 최원범'}, {'id': 2, 'title': '제주코딩베이스캠프 Code Festival: Python 100제 1부', 'price': '가격: 무료', 'author': '저자: 이호준, 강민정, 김유진, 정윤하, 최원범'}, {'id': 3, 'title': '제주코딩베이스캠프 Code Festival: Python 100제 1부', 'price': '가격: 무료', 'author': '저자: 이호준, 강민정, 김유진, 정윤하, 최원범'}, {'id': 4, 'title': '제주코딩베이스캠프 Code Festival: Python 100제 1부', 'price': '가격: 무료', 'author': '저자: 이호준, 강민정, 김유진, 정윤하, 최원범'}, {'id': 5, 'title': '제주코딩베이스캠프 Code Festival: Python 100제 1부', 'price': '가격: 무료', 'author': '저자: 이호준, 강민정, 김유진, 정윤하, 최원범'}, {'id': 6, 'title': '제주코딩베이스캠프 Code Festival: Python 100제 1부', 'price': '가격: 무료', 'author': '저자: 이호준, 강민정, 김유진, 정윤하, 최원범'}, {'id': 7, 'title': '제주코딩베이스캠프 Code Festival: Python 100제 1부', 'price': '가격: 무료', 'author': '저자: 이호준, 강민정, 김유진, 정윤하, 최원범'}, {'id': 8, 'title': '제주코딩베이스캠프 Code Festival: Python 100제 1부', 'price': '가격: 무료', 'author': '저자: 이호준, 강민정, 김유진, 정윤하, 최원범'}, {'id': 9, 'title': '제주코딩베이스캠프 Code Festival: Python 100제 1부', 'price': '가격: 무료', 'author': '저자: 이호준, 강민정, 김유진, 정윤하, 최원범'}, {'id': 10, 'title': '제주코딩베이스캠프 Code Festival: Python 100제 1부', 'price': '가격: 무료', 'author': '저자: 이호준, 강민정, 김유진, 정윤하, 최원범'}, {'id': 1, 'title': '튜토리얼로 배우는 HTML&CSS', 'price': '가격: 4,900원', 'author': '저자: 이호준, 박민균, 양지혜, 정민준, 박소영, 전유빈'}, {'id': 2, 'title': '튜토리얼로 배우는 HTML&CSS', 'price': '가격: 4,900원', 'author': '저자: 이호준, 박민균, 양지혜, 정민준, 박소영, 전유빈'}, {'id': 3, 'title': '튜토리얼로 배우는 HTML&CSS', 'price': '가격: 4,900원', 'author': '저자: 이호준, 박민균, 양지혜, 정민준, 박소영, 전유빈'}, {'id': 4, 'title': '튜토리얼로 배우는 HTML&CSS', 'price': '가격: 4,900원', 'author': '저자: 이호준, 박민균, 양지혜, 정민준, 박소영, 전유빈'}, {'id': 5, 'title': '튜토리얼로 배우는 HTML&CSS', 'price': '가격: 4,900원', 'author': '저자: 이호준, 박민균, 양지혜, 정민준, 박소영, 전유빈'}, {'id': 6, 'title': '튜토리얼로 배우는 HTML&CSS', 'price': '가격: 4,900원', 'author': '저자: 이호준, 박민균, 양지혜, 정민준, 박소영, 전유빈'}, {'id': 7, 'title': '튜토리얼로 배우는 HTML&CSS', 'price': '가격: 4,900원', 'author': '저자: 이호준, 박민균, 양지혜, 정민준, 박소영, 전유빈'}, {'id': 8, 'title': '튜토리얼로 배우는 HTML&CSS', 'price': '가격: 4,900원', 'author': '저자: 이호준, 박민균, 양지혜, 정민준, 박소영, 전유빈'}, {'id': 9, 'title': '튜토리얼로 배우는 HTML&CSS', 'price': '가격: 4,900원', 'author': '저자: 이호준, 박민균, 양지혜, 정민준, 박소영, 전유빈'}, {'id': 10, 'title': '튜토리얼로 배우는 HTML&CSS', 'price': '가격: 4,900원', 'author': '저자: 이호준, 박민균, 양지혜, 정민준, 박소영, 전유빈'}, {'id': 1, 'title': '코딩도장 튜토리얼로 배우는 Python 1편 object', 'price': '가격: 3,000원', 'author': '저자: 이호준, 정민준, 배희성, 김덕주, 한승협'}, {'id': 2, 'title': '코딩도장 튜토리얼로 배우는 Python 1편 object', 'price': '가격: 3,000원', 'author': '저자: 이호준, 정민준, 배희성, 김덕주, 한승협'}, {'id': 3, 'title': '코딩도장 튜토리얼로 배우는 Python 1편 object', 'price': '가격: 3,000원', 'author': '저자: 이호준, 정민준, 배희성, 김덕주, 한승협'}, {'id': 4, 'title': '코딩도장 튜토리얼로 배우는 Python 1편 object', 'price': '가격: 3,000원', 'author': '저자: 이호준, 정민준, 배희성, 김덕주, 한승협'}, {'id': 5, 'title': '코딩도장 튜토리얼로 배우는 Python 1편 object', 'price': '가격: 3,000원', 'author': '저자: 이호준, 정민준, 배희성, 김덕주, 한승협'}, {'id': 6, 'title': '코딩도장 튜토리얼로 배우는 Python 1편 object', 'price': '가격: 3,000원', 'author': '저자: 이호준, 정민준, 배희성, 김덕주, 한승협'}, {'id': 7, 'title': '코딩도장 튜토리얼로 배우는 Python 1편 object', 'price': '가격: 3,000원', 'author': '저자: 이호준, 정민준, 배희성, 김덕주, 한승협'}, {'id': 8, 'title': '코딩도장 튜토리얼로 배우는 Python 1편 object', 'price': '가격: 3,000원', 'author': '저자: 이호준, 정민준, 배희성, 김덕주, 한승협'}, {'id': 9, 'title': '코딩도장 튜토리얼로 배우는 Python 1편 object', 'price': '가격: 3,000원', 'author': '저자: 이호준, 정민준, 배희성, 김덕주, 한승협'}, {'id': 10, 'title': '코딩도장 튜토리얼로 배우는 Python 1편 object', 'price': '가격: 3,000원', 'author': '저자: 이호준, 정민준, 배희성, 김덕주, 한승협'}, {'id': 1, 'title': '코딩도장 튜토리얼로 배우는 python 2편 제어문', 'price': '가격: 4,900원', 'author': '저자: 이호준, 우지훈, 박소영, 허재영'}, {'id': 2, 'title': '코딩도장 튜토리얼로 배우는 python 2편 제어문', 'price': '가격: 4,900원', 'author': '저자: 이호준, 우지훈, 박소영, 허재영'}, {'id': 3, 'title': '코딩도장 튜토리얼로 배우는 python 2편 제어문', 'price': '가격: 4,900원', 'author': '저자: 이호준, 우지훈, 박소영, 허재영'}, {'id': 4, 'title': '코딩도장 튜토리얼로 배우는 python 2편 제어문', 'price': '가격: 4,900원', 'author': '저자: 이호준, 우지훈, 박소영, 허재영'}, {'id': 5, 'title': '코딩도장 튜토리얼로 배우는 python 2편 제어문', 'price': '가격: 4,900원', 'author': '저자: 이호준, 우지훈, 박소영, 허재영'}, {'id': 6, 'title': '코딩도장 튜토리얼로 배우는 python 2편 제어문', 'price': '가격: 4,900원', 'author': '저자: 이호준, 우지훈, 박소영, 허재영'}, {'id': 7, 'title': '코딩도장 튜토리얼로 배우는 python 2편 제어문', 'price': '가격: 4,900원', 'author': '저자: 이호준, 우지훈, 박소영, 허재영'}, {'id': 8, 'title': '코딩도장 튜토리얼로 배우는 python 2편 제어문', 'price': '가격: 4,900원', 'author': '저자: 이호준, 우지훈, 박소영, 허재영'}, {'id': 9, 'title': '코딩도장 튜토리얼로 배우는 python 2편 제어문', 'price': '가격: 4,900원', 'author': '저자: 이호준, 우지훈, 박소영, 허재영'}, {'id': 10, 'title': '코딩도장 튜토리얼로 배우는 python 2편 제어문', 'price': '가격: 4,900원', 'author': '저자: 이호준, 우지훈, 박소영, 허재영'}, {'id': 1, 'title': '코딩도장 튜토리얼로 배우는 Python 문제풀이', 'price': '가격: 무료', 'author': '저자: 이호준, 전유빈, 김태범, 한승협, 김혜원, 강민정'}, {'id': 2, 'title': '코딩도장 튜토리얼로 배우는 Python 문제풀이', 'price': '가격: 무료', 'author': '저자: 이호준, 전유빈, 김태범, 한승협, 김혜원, 강민정'}, {'id': 3, 'title': '코딩도장 튜토리얼로 배우는 Python 문제풀이', 'price': '가격: 무료', 'author': '저자: 이호준, 전유빈, 김태범, 한승협, 김혜원, 강민정'}, {'id': 4, 'title': '코딩도장 튜토리얼로 배우는 Python 문제풀이', 'price': '가격: 무료', 'author': '저자: 이호준, 전유빈, 김태범, 한승협, 김혜원, 강민정'}, {'id': 5, 'title': '코딩도장 튜토리얼로 배우는 Python 문제풀이', 'price': '가격: 무료', 'author': '저자: 이호준, 전유빈, 김태범, 한승협, 김혜원, 강민정'}, {'id': 6, 'title': '코딩도장 튜토리얼로 배우는 Python 문제풀이', 'price': '가격: 무료', 'author': '저자: 이호준, 전유빈, 김태범, 한승협, 김혜원, 강민정'}, {'id': 7, 'title': '코딩도장 튜토리얼로 배우는 Python 문제풀이', 'price': '가격: 무료', 'author': '저자: 이호준, 전유빈, 김태범, 한승협, 김혜원, 강민정'}, {'id': 8, 'title': '코딩도장 튜토리얼로 배우는 Python 문제풀이', 'price': '가격: 무료', 'author': '저자: 이호준, 전유빈, 김태범, 한승협, 김혜원, 강민정'}, {'id': 9, 'title': '코딩도장 튜토리얼로 배우는 Python 문제풀이', 'price': '가격: 무료', 'author': '저자: 이호준, 전유빈, 김태범, 한승협, 김혜원, 강민정'}, {'id': 10, 'title': '코딩도장 튜토리얼로 배우는 Python 문제풀이', 'price': '가격: 무료', 'author': '저자: 이호준, 전유빈, 김태범, 한승협, 김혜원, 강민정'}, {'id': 1, 'title': '타노스의 건틀릿 알고리즘 With Python', 'price': '가격: 무료', 'author': '저자: 이호준, 한승협, 강민정, 신민욱'}, {'id': 2, 'title': '타노스의 건틀릿 알고리즘 With Python', 'price': '가격: 무료', 'author': '저자: 이호준, 한승협, 강민정, 신민욱'}, {'id': 3, 'title': '타노스의 건틀릿 알고리즘 With Python', 'price': '가격: 무료', 'author': '저자: 이호준, 한승협, 강민정, 신민욱'}, {'id': 4, 'title': '타노스의 건틀릿 알고리즘 With Python', 'price': '가격: 무료', 'author': '저자: 이호준, 한승협, 강민정, 신민욱'}, {'id': 5, 'title': '타노스의 건틀릿 알고리즘 With Python', 'price': '가격: 무료', 'author': '저자: 이호준, 한승협, 강민정, 신민욱'}, {'id': 6, 'title': '타노스의 건틀릿 알고리즘 With Python', 'price': '가격: 무료', 'author': '저자: 이호준, 한승협, 강민정, 신민욱'}, {'id': 7, 'title': '타노스의 건틀릿 알고리즘 With Python', 'price': '가격: 무료', 'author': '저자: 이호준, 한승협, 강민정, 신민욱'}, {'id': 8, 'title': '타노스의 건틀릿 알고리즘 With Python', 'price': '가격: 무료', 'author': '저자: 이호준, 한승협, 강민정, 신민욱'}, {'id': 9, 'title': '타노스의 건틀릿 알고리즘 With Python', 'price': '가격: 무료', 'author': '저자: 이호준, 한승협, 강민정, 신민욱'}, {'id': 10, 'title': '타노스의 건틀릿 알고리즘 With Python', 'price': '가격: 무료', 'author': '저자: 이호준, 한승협, 강민정, 신민욱'}, {'id': 1, 'title': 'xlsxwriter 튜토리얼로 배우는 Python 엑셀 프로그래밍', 'price': '가격: 무료', 'author': '저자: 이호준, 강상권, 오재원, 전진환, 문형철, 이현창'}, {'id': 2, 'title': 'xlsxwriter 튜토리얼로 배우는 Python 엑셀 프로그래밍', 'price': '가격: 무료', 'author': '저자: 이호준, 강상권, 오재원, 전진환, 문형철, 이현창'}, {'id': 3, 'title': 'xlsxwriter 튜토리얼로 배우는 Python 엑셀 프로그래밍', 'price': '가격: 무료', 'author': '저자: 이호준, 강상권, 오재원, 전진환, 문형철, 이현창'}, {'id': 4, 'title': 'xlsxwriter 튜토리얼로 배우는 Python 엑셀 프로그래밍', 'price': '가격: 무료', 'author': '저자: 이호준, 강상권, 오재원, 전진환, 문형철, 이현창'}, {'id': 5, 'title': 'xlsxwriter 튜토리얼로 배우는 Python 엑셀 프로그래밍', 'price': '가격: 무료', 'author': '저자: 이호준, 강상권, 오재원, 전진환, 문형철, 이현창'}, {'id': 6, 'title': 'xlsxwriter 튜토리얼로 배우는 Python 엑셀 프로그래밍', 'price': '가격: 무료', 'author': '저자: 이호준, 강상권, 오재원, 전진환, 문형철, 이현창'}, {'id': 7, 'title': 'xlsxwriter 튜토리얼로 배우는 Python 엑셀 프로그래밍', 'price': '가격: 무료', 'author': '저자: 이호준, 강상권, 오재원, 전진환, 문형철, 이현창'}, {'id': 8, 'title': 'xlsxwriter 튜토리얼로 배우는 Python 엑셀 프로그래밍', 'price': '가격: 무료', 'author': '저자: 이호준, 강상권, 오재원, 전진환, 문형철, 이현창'}, {'id': 9, 'title': 'xlsxwriter 튜토리얼로 배우는 Python 엑셀 프로그래밍', 'price': '가격: 무료', 'author': '저자: 이호준, 강상권, 오재원, 전진환, 문형철, 이현창'}, {'id': 10, 'title': 'xlsxwriter 튜토리얼로 배우는 Python 엑셀 프로그래밍', 'price': '가격: 무료', 'author': '저자: 이호준, 강상권, 오재원, 전진환, 문형철, 이현창'}, {'id': 1, 'title': '러플 튜토리얼로 배우는 Python', 'price': '가격: 4,900', 'author': '저자: 이호준, 배희성, 양지혜, 박소영, 김수연, 정민준'}, {'id': 2, 'title': '러플 튜토리얼로 배우는 Python', 'price': '가격: 4,900', 'author': '저자: 이호준, 배희성, 양지혜, 박소영, 김수연, 정민준'}, {'id': 3, 'title': '러플 튜토리얼로 배우는 Python', 'price': '가격: 4,900', 'author': '저자: 이호준, 배희성, 양지혜, 박소영, 김수연, 정민준'}, {'id': 4, 'title': '러플 튜토리얼로 배우는 Python', 'price': '가격: 4,900', 'author': '저자: 이호준, 배희성, 양지혜, 박소영, 김수연, 정민준'}, {'id': 5, 'title': '러플 튜토리얼로 배우는 Python', 'price': '가격: 4,900', 'author': '저자: 이호준, 배희성, 양지혜, 박소영, 김수연, 정민준'}, {'id': 6, 'title': '러플 튜토리얼로 배우는 Python', 'price': '가격: 4,900', 'author': '저자: 이호준, 배희성, 양지혜, 박소영, 김수연, 정민준'}, {'id': 7, 'title': '러플 튜토리얼로 배우는 Python', 'price': '가격: 4,900', 'author': '저자: 이호준, 배희성, 양지혜, 박소영, 김수연, 정민준'}, {'id': 8, 'title': '러플 튜토리얼로 배우는 Python', 'price': '가격: 4,900', 'author': '저자: 이호준, 배희성, 양지혜, 박소영, 김수연, 정민준'}, {'id': 9, 'title': '러플 튜토리얼로 배우는 Python', 'price': '가격: 4,900', 'author': '저자: 이호준, 배희성, 양지혜, 박소영, 김수연, 정민준'}, {'id': 10, 'title': '러플 튜토리얼로 배우는 Python', 'price': '가격: 4,900', 'author': '저자: 이호준, 배희성, 양지혜, 박소영, 김수연, 정민준'}, {'id': 1, 'title': '인공지능을 활용한 업무자동화 With Google Developers Group JEJU', 'price': '가격: 무료', 'author': '저자: 이호준, 이준호, 현암, 윤현담, 김루비, 이동민, 유승엽, 박서윤, 김채린, 한승협, 안상우, 장성원, 전진환, 강민성, 조민구, 전창삼'}, {'id': 2, 'title': '인공지능을 활용한 업무자동화 With Google Developers Group JEJU', 'price': '가격: 무료', 'author': '저자: 이호준, 이준호, 현암, 윤현담, 김루비, 이동민, 유승엽, 박서윤, 김채린, 한승협, 안상우, 장성원, 전진환, 강민성, 조민구, 전창삼'}, {'id': 3, 'title': '인공지능을 활용한 업무자동화 With Google Developers Group JEJU', 'price': '가격: 무료', 'author': '저자: 이호준, 이준호, 현암, 윤현담, 김루비, 이동민, 유승엽, 박서윤, 김채린, 한승협, 안상우, 장성원, 전진환, 강민성, 조민구, 전창삼'}, {'id': 4, 'title': '인공지능을 활용한 업무자동화 With Google Developers Group JEJU', 'price': '가격: 무료', 'author': '저자: 이호준, 이준호, 현암, 윤현담, 김루비, 이동민, 유승엽, 박서윤, 김채린, 한승협, 안상우, 장성원, 전진환, 강민성, 조민구, 전창삼'}, {'id': 5, 'title': '인공지능을 활용한 업무자동화 With Google Developers Group JEJU', 'price': '가격: 무료', 'author': '저자: 이호준, 이준호, 현암, 윤현담, 김루비, 이동민, 유승엽, 박서윤, 김채린, 한승협, 안상우, 장성원, 전진환, 강민성, 조민구, 전창삼'}, {'id': 6, 'title': '인공지능을 활용한 업무자동화 With Google Developers Group JEJU', 'price': '가격: 무료', 'author': '저자: 이호준, 이준호, 현암, 윤현담, 김루비, 이동민, 유승엽, 박서윤, 김채린, 한승협, 안상우, 장성원, 전진환, 강민성, 조민구, 전창삼'}, {'id': 7, 'title': '인공지능을 활용한 업무자동화 With Google Developers Group JEJU', 'price': '가격: 무료', 'author': '저자: 이호준, 이준호, 현암, 윤현담, 김루비, 이동민, 유승엽, 박서윤, 김채린, 한승협, 안상우, 장성원, 전진환, 강민성, 조민구, 전창삼'}, {'id': 8, 'title': '인공지능을 활용한 업무자동화 With Google Developers Group JEJU', 'price': '가격: 무료', 'author': '저자: 이호준, 이준호, 현암, 윤현담, 김루비, 이동민, 유승엽, 박서윤, 김채린, 한승협, 안상우, 장성원, 전진환, 강민성, 조민구, 전창삼'}, {'id': 9, 'title': '인공지능을 활용한 업무자동화 With Google Developers Group JEJU', 'price': '가격: 무료', 'author': '저자: 이호준, 이준호, 현암, 윤현담, 김루비, 이동민, 유승엽, 박서윤, 김채린, 한승협, 안상우, 장성원, 전진환, 강민성, 조민구, 전창삼'}, {'id': 10, 'title': '인공지능을 활용한 업무자동화 With Google Developers Group JEJU', 'price': '가격: 무료', 'author': '저자: 이호준, 이준호, 현암, 윤현담, 김루비, 이동민, 유승엽, 박서윤, 김채린, 한승협, 안상우, 장성원, 전진환, 강민성, 조민구, 전창삼'}]\n"
     ]
    }
   ],
   "source": [
    "import requests\n",
    "from bs4 import BeautifulSoup\n",
    "\n",
    "url = 'https://paullab.co.kr/bookservice/'\n",
    "response = requests.get(url)\n",
    "html = response.text\n",
    "\n",
    "soup = BeautifulSoup(html, 'html.parser')\n",
    "data = soup.select('.book_detail')\n",
    "\n",
    "lst = []\n",
    "for i in data:\n",
    "    title = i.select('.book_name')[0].text\n",
    "    price = i.select('.book_info')[0].text\n",
    "    author = i.select('.book_info')[1].text\n",
    "\n",
    "    for j in range(1, len(data)):\n",
    "        id = j\n",
    "        data_list = [id, title, price, author]\n",
    "        lst.append(data_list)\n",
    "\n",
    "dict_list = []\n",
    "\n",
    "for k in lst:\n",
    "    book_dict = {\n",
    "        'id': k[0],\n",
    "        'title': k[1],\n",
    "        'price': k[2],\n",
    "        'author': k[3]\n",
    "    }\n",
    "    dict_list.append(book_dict)\n",
    "\n",
    "print(dict_list)"
   ]
  },
  {
   "cell_type": "code",
   "execution_count": null,
   "metadata": {},
   "outputs": [],
   "source": [
    "if '무료' in price:\n",
    "        price = 0\n",
    "    else:\n",
    "        price = int(''.join(filter(str.isdigit, price)))"
   ]
  },
  {
   "cell_type": "code",
   "execution_count": null,
   "metadata": {},
   "outputs": [],
   "source": []
  }
 ],
 "metadata": {
  "kernelspec": {
   "display_name": "venv",
   "language": "python",
   "name": "python3"
  },
  "language_info": {
   "codemirror_mode": {
    "name": "ipython",
    "version": 3
   },
   "file_extension": ".py",
   "mimetype": "text/x-python",
   "name": "python",
   "nbconvert_exporter": "python",
   "pygments_lexer": "ipython3",
   "version": "3.12.0"
  }
 },
 "nbformat": 4,
 "nbformat_minor": 2
}
